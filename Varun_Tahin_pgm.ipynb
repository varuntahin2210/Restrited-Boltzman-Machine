{
 "cells": [
  {
   "cell_type": "markdown",
   "metadata": {},
   "source": [
    "# Restricted Boltzman Machine \n",
    "\n",
    "A restricted Boltzmann Machine is an \"Energy Based\" generative stochastic model. They were initially invented by Paul Smolensky in 1986 and were called \"Harmonium\". After the evolution of training algorithms in the mid 2000's by Geoffrey Hinton, the boltzman machine became more prominent. They gained big popularity in recent years in the context of the Netflix Prize where RBMs achieved state of the art performance in collaborative filtering and have beaten most of the competition.\n",
    "\n",
    "RBM's are useful for dimensionality reduction, classification, regression, collaborative filtering, feature learning and topic modeling. \n"
   ]
  },
  {
   "cell_type": "markdown",
   "metadata": {},
   "source": [
    "## Architecture\n",
    "RBMs are shallow, two-layer neural nets that constitute the building blocks of deep-belief networks. The first layer of the RBM is called the visible, or input, layer, and the second is the hidden layer. The absense of an output layer is apparent. As we move forward we would learn why the output layer won't be needed.\n",
    "<img src=\"figure1.png\" width=\"150\" height=\"50\" title=\"Layers in RBM\">\n",
    "Figure1: Layers in RBM\n",
    "Each circle in the figure above represents a neuron-like unit called a node, and nodes are simply where calculations take place. \n",
    "<img src=\"figure3.png\" width=\"500\" height=\"200\" title=\"Layers in RBM\">\n",
    "Figure2: Structure of RBM\n",
    "The nodes are connected to each other across layers, but no two nodes of the same layer are linked. That is, there is no intra-layer communication – this is the restriction in a restricted Boltzmann machine. Each node is a locus of computation that processes input, and begins by making stochastic decisions about whether to transmit that input or not. Each visible node takes a low-level feature from an item in the dataset to be learned."
   ]
  },
  {
   "cell_type": "markdown",
   "metadata": {},
   "source": [
    "Let's start by importing the packages that will be required in this project."
   ]
  },
  {
   "cell_type": "code",
   "execution_count": 1,
   "metadata": {},
   "outputs": [],
   "source": [
    "import numpy as np\n",
    "from collections import Counter, defaultdict\n",
    "import pandas as pd\n",
    "from scipy.sparse import coo_matrix, hstack\n",
    "from sklearn.feature_extraction.text import CountVectorizer\n",
    "import sys\n",
    "import timeit\n",
    "np_rng = np.random.RandomState(1234) #setting the random state"
   ]
  },
  {
   "cell_type": "code",
   "execution_count": 2,
   "metadata": {},
   "outputs": [],
   "source": [
    "# graded\n",
    "# import data\n",
    "\n",
    "df = pd.read_excel(\"amazon.xlsx\", header=0)"
   ]
  },
  {
   "cell_type": "code",
   "execution_count": 3,
   "metadata": {},
   "outputs": [
    {
     "data": {
      "text/html": [
       "<div>\n",
       "<style scoped>\n",
       "    .dataframe tbody tr th:only-of-type {\n",
       "        vertical-align: middle;\n",
       "    }\n",
       "\n",
       "    .dataframe tbody tr th {\n",
       "        vertical-align: top;\n",
       "    }\n",
       "\n",
       "    .dataframe thead th {\n",
       "        text-align: right;\n",
       "    }\n",
       "</style>\n",
       "<table border=\"1\" class=\"dataframe\">\n",
       "  <thead>\n",
       "    <tr style=\"text-align: right;\">\n",
       "      <th></th>\n",
       "      <th>Text</th>\n",
       "    </tr>\n",
       "  </thead>\n",
       "  <tbody>\n",
       "    <tr>\n",
       "      <th>0</th>\n",
       "      <td>So there is no way for me to plug it in here i...</td>\n",
       "    </tr>\n",
       "    <tr>\n",
       "      <th>1</th>\n",
       "      <td>Good case, Excellent value.</td>\n",
       "    </tr>\n",
       "    <tr>\n",
       "      <th>2</th>\n",
       "      <td>Great for the jawbone.</td>\n",
       "    </tr>\n",
       "    <tr>\n",
       "      <th>3</th>\n",
       "      <td>Tied to charger for conversations lasting more...</td>\n",
       "    </tr>\n",
       "    <tr>\n",
       "      <th>4</th>\n",
       "      <td>The mic is great.</td>\n",
       "    </tr>\n",
       "  </tbody>\n",
       "</table>\n",
       "</div>"
      ],
      "text/plain": [
       "                                                Text\n",
       "0  So there is no way for me to plug it in here i...\n",
       "1                        Good case, Excellent value.\n",
       "2                             Great for the jawbone.\n",
       "3  Tied to charger for conversations lasting more...\n",
       "4                                  The mic is great."
      ]
     },
     "execution_count": 3,
     "metadata": {},
     "output_type": "execute_result"
    }
   ],
   "source": [
    "#run this and check if you have got the correct output\n",
    "df.head()"
   ]
  },
  {
   "cell_type": "markdown",
   "metadata": {},
   "source": [
    "In Topic Modelling, you find the best set of topics that describe the document. There are various ways to perform topic modelling one of which is RBM. You train your RBM on a set of documents. \n",
    "The visible layers will be the words in the text, the hidden layers will give the Topics. \n",
    "To input words into the visible layer, let's convert the train and test data you split above into a bag of words model."
   ]
  },
  {
   "cell_type": "code",
   "execution_count": 4,
   "metadata": {},
   "outputs": [],
   "source": [
    "#graded\n",
    "# create bag of words model on train and test data\n",
    "\n",
    "tf = CountVectorizer(stop_words='english')#the final shape should be (number of documents, vocabulary)\n",
    "\n",
    "# fit tf on the dataframe df\n",
    "tf = tf.fit(df['Text'])\n",
    "\n",
    "\n",
    "# transform df dataframe\n",
    "trainX = tf.transform(df['Text'])"
   ]
  },
  {
   "cell_type": "code",
   "execution_count": 5,
   "metadata": {},
   "outputs": [
    {
     "name": "stdout",
     "output_type": "stream",
     "text": [
      "Vocabulary length: 1642\n",
      "Vocabulary text: {'way': 1582, 'plug': 1081, 'unless': 1524, 'converter': 326, 'good': 639, 'case': 218, 'excellent': 508, 'value': 1552, 'great': 645, 'jawbone': 774, 'tied': 1458, 'charger': 240, 'conversations': 325, 'lasting': 809, '45': 20, 'minutes': 921, 'major': 882, 'problems': 1114, 'mic': 914, 'jiggle': 776, 'line': 835, 'right': 1227, 'decent': 373, 'volume': 1562, 'dozen': 438, 'contacts': 316, 'imagine': 720, 'fun': 608, 'sending': 1277, 'razr': 1161, 'owner': 1016, 'needless': 954, 'say': 1256, 'wasted': 1579, 'money': 929, 'waste': 1578, 'time': 1460, 'sound': 1358, 'quality': 1146, 'impressed': 724, 'going': 637, 'original': 1003, 'battery': 128, 'extended': 526, 'seperated': 1281, 'mere': 906, 'ft': 605, 'started': 1378, 'notice': 972, 'excessive': 511, 'static': 1383, 'garbled': 618, 'headset': 675, 'design': 385, 'odd': 980, 'ear': 457, 'clip': 266, 'comfortable': 278, 'highly': 685, 'recommend': 1187, 'blue': 153, 'tooth': 1478, 'phone': 1055, 'advise': 62, 'fooled': 585, 'far': 545, 'works': 1625, 'clicks': 265, 'place': 1064, 'makes': 885, 'wonder': 1616, 'long': 851, 'mechanism': 897, 'went': 1593, 'motorola': 937, 'website': 1587, 'followed': 583, 'directions': 404, 'pair': 1025, 'bought': 166, 'use': 1537, 'kindle': 795, 'absolutely': 36, 'loved': 871, 'commercials': 283, 'misleading': 922, 'run': 1244, 'new': 958, 'bars': 123, 'days': 368, 'charging': 243, 'mother': 934, 'problem': 1113, 'pocket': 1085, 'pc': 1038, 'combination': 274, 've': 1553, 'owned': 1015, 'months': 932, 'best': 140, 'mobile': 925, 'didn': 398, 'think': 1451, 'instructions': 752, 'provided': 1132, 'helpful': 681, 'people': 1045, 'hear': 677, 'talk': 1434, 'pull': 1137, 'earphone': 464, 'doesn': 430, 'hold': 690, 'charge': 238, 'simple': 1314, 'little': 843, 'breakage': 171, 'unacceptible': 1513, 'product': 1118, 'ideal': 714, 'like': 832, 'ears': 468, 'sensitive': 1278, 'unusable': 1528, 'moving': 939, 'car': 210, 'freeway': 596, 'speed': 1369, 'years': 1637, 'left': 820, 'contract': 319, 'hate': 668, 'ac': 37, 'included': 730, 'make': 884, 'sure': 1424, 'juice': 780, 'highy': 686, 'recommended': 1188, 'need': 952, 'mins': 919, 'book': 159, 'turn': 1506, 'life': 827, 'short': 1301, 'kept': 787, 'poor': 1088, 'performance': 1048, 'fine': 562, '680': 26, 'worthless': 1630, 'camera': 204, 'thats': 1446, '2mp': 13, 'pics': 1058, 'nice': 960, 'clear': 261, 'picture': 1059, 'priced': 1108, 'garbage': 617, 'audio': 104, 'bluetooth': 156, 'features': 551, 'want': 1573, 'mind': 917, 'gonna': 638, 'buy': 191, 'arguing': 92, 'verizon': 1555, 'regarding': 1194, 'dropped': 448, 'calls': 202, 'returned': 1220, 'phones': 1056, 'disappointed': 410, 'loud': 865, 'protection': 1127, 'does': 429, 'bulky': 187, 'usable': 1534, 'keyboard': 789, 'actually': 51, 'turns': 1508, 'pda': 1040, 'real': 1167, 'world': 1626, 'useful': 1539, 'machine': 875, 'instead': 750, 'just': 782, 'neat': 951, 'gadget': 614, 'pretty': 1104, 'sturdy': 1407, 'large': 807, 'love': 870, 'thing': 1449, 'reasonable': 1171, 'price': 1107, 'stream': 1397, 'submerged': 1411, '15': 5, 'seconds': 1268, 'happy': 664, '510': 24, 'complaints': 296, 'end': 486, 'buttons': 190, 'bad': 118, 'essentially': 501, 'forget': 589, 'microsoft': 916, 'tech': 1437, 'support': 1421, 'really': 1169, 'faceplates': 534, 'looks': 855, 'elegant': 481, 'cool': 327, 'headphones': 674, 'purchase': 1139, 'seriously': 1283, 'different': 401, 'particular': 1032, 'angle': 78, 'party': 1033, 'clearly': 263, 'big': 143, 'drawback': 443, 'mp3': 940, 'player': 1074, 'cover': 340, 'let': 824, 'pause': 1036, 'skip': 1324, 'songs': 1352, 'lock': 847, 'week': 1589, 'later': 813, 'activated': 49, 'suddenly': 1415, 'died': 399, 'feels': 554, 'headsets': 676, 'wear': 1584, 'glasses': 633, 'gets': 625, 'ipods': 763, 'device': 394, 'situations': 1320, 'work': 1622, 'bmw': 158, 'series': 1282, 'fairly': 539, 'quiet': 1149, 'trouble': 1499, 'hearing': 678, 'person': 1053, 'saying': 1257, 'choice': 254, 'docking': 428, 'station': 1384, 'home': 695, 'beautiful': 131, 'd807': 362, 'wrongly': 1635, 'advertised': 61, 'item': 769, 'handy': 659, 'lot': 863, 'purchased': 1140, 'longer': 852, 'working': 1624, 'everyday': 504, 'holds': 693, 'bargain': 122, 'packaged': 1020, 'arrived': 95, 'intended': 754, 'runs': 1245, 'quickly': 1148, 'worked': 1623, 'broke': 175, 'easy': 473, 'loves': 872, 'construction': 311, 'better': 141, 'boy': 168, 'cheaper': 246, 'loads': 846, 'super': 1417, 'costs': 333, 'expect': 519, 'greater': 646, 'ease': 470, 'buds': 184, 'play': 1073, 'music': 945, 'dont': 434, 'order': 998, 'plan': 1067, 'waaay': 1566, 'tried': 1497, 'bluetooths': 157, 'listener': 839, 'using': 1543, 'decision': 374, 'integrated': 753, 'seamlessly': 1265, 'buyer': 192, 'beware': 142, 'flush': 581, 'toilet': 1471, 'definitely': 379, 'free': 594, 'shipping': 1299, 'received': 1178, 'supposedly': 1422, '375': 16, 'apparently': 85, 'match': 893, 'pros': 1125, 'pictures': 1060, 'styles': 1408, 'black': 148, 'white': 1597, 'huge': 706, 'flaw': 569, 'correctly': 331, 'don': 433, '350': 15, 'jabra350': 772, 'reception': 1181, 'piece': 1061, 'fit': 565, 'rated': 1158, 'impressive': 725, 'megapixels': 901, 'renders': 1202, 'images': 719, 'fall': 540, 'expectations': 520, 'relatively': 1198, 'high': 683, 'resolution': 1211, 'purcashed': 1138, 'wife': 1600, 'ask': 97, 'slim': 1331, 'light': 828, 'display': 418, 'geeky': 620, 'sex': 1289, 'toast': 1469, 'rocks': 1238, 'oozes': 990, 'embedded': 484, 'sleek': 1326, 'stylish': 1410, 'leather': 819, 'fast': 546, 'compromise': 299, 'qwerty': 1152, 'basic': 125, 'cell': 228, 'number': 974, 'keypad': 790, 'got': 642, 'completely': 297, 'unhappy': 1519, 'winner': 1605, 'setup': 1287, 'couldn': 334, 'simpler': 1315, 'earpieces': 467, 'jabra': 771, 'fits': 566, 'comfortably': 279, 'strong': 1401, 'signal': 1309, 'iam': 712, 'pleased': 1078, 'job': 777, 'basically': 126, 'service': 1284, 'did': 397, 'set': 1285, 'weeks': 1590, 'bt': 179, 'disapoinment': 407, 'small': 1335, 'realize': 1168, 'getting': 626, 'used': 1538, 'accompanied': 46, 'software': 1347, 'brilliant': 174, 'nicely': 961, 'avoid': 109, 'damage': 363, 'definitly': 380, 'careful': 213, 'majority': 883, 'logitech': 850, 'earbud': 458, 'failed': 537, 'stuff': 1404, 'peachy': 1041, 'keen': 784, 'house': 704, 'coverage': 341, 'upstairs': 1533, 'basement': 124, 'voice': 1560, 'recognition': 1185, 'tremendous': 1494, 'minute': 920, 'experienced': 524, 'drops': 450, 'area': 91, 'takes': 1433, 'forever': 587, 'hours': 702, 'literally': 842, 'reccomendation': 1174, 'relative': 1197, 'glad': 631, 'items': 770, 'stated': 1382, 'description': 384, 'screen': 1263, 'sudden': 1414, 'hoping': 698, 'linking': 837, '8530': 30, 'blackberry': 149, 'curve': 356, 'know': 799, 'sounds': 1360, 'funny': 613, 'sketchy': 1323, 'technology': 1438, 'wouldn': 1632, 'wired': 1608, 'kind': 794, 'messages': 909, 'web': 1586, 'browsing': 178, 'significantly': 1311, 'faster': 547, 'previous': 1106, 'build': 185, 'unlike': 1525, 'cheap': 245, 'fantastic': 544, 'perfectly': 1047, 'colors': 273, 'w810i': 1565, 'superb': 1418, 'whine': 1595, 'internet': 758, 'goes': 636, 'communications': 286, 'tool': 1476, 'communicate': 284, 'charm': 244, 'maintain': 880, 'monkeys': 930, 'shouldn': 1303, 'obviously': 978, 'share': 1291, 'dna': 427, 'copy': 329, 'humans': 707, 'bougth': 167, 'l7c': 802, 'look': 853, 'sharp': 1292, 'graphics': 644, 'mode': 926, 'button': 189, 'thank': 1444, 'wasting': 1580, 'igo': 715, 'chargers': 241, 'tips': 1466, 'file': 559, 'browser': 177, 'offers': 983, 'options': 997, 'needs': 955, 'handsfree': 658, 'network': 957, 'connected': 306, 'hs850': 705, 'latest': 814, 'os': 1005, 'v1': 1547, '15g': 6, 'likes': 834, 'slow': 1333, 'crawl': 350, 'recognizes': 1186, 'storage': 1393, 'buzzing': 196, 'override': 1014, 'bluetoooth': 155, 'functionality': 611, 'awesome': 112, 'thorn': 1452, 'abhor': 31, 'recently': 1180, 'stay': 1385, '10': 0, 'disconnected': 415, 'incredible': 735, '13': 4, 'bucks': 183, 'check': 249, 'mail': 878, 'night': 963, 'backlight': 117, 'message': 908, 'lost': 862, 'replacement': 1206, 'ring': 1229, 'tone': 1473, 'overall': 1010, 'lately': 812, 'extremely': 530, 'wit': 1613, 'hit': 688, 'dropping': 449, 'weight': 1591, 'hardly': 666, 'll': 845, 'pleather': 1079, 'useless': 1541, 'simply': 1316, 'deaf': 370, 'color': 271, 'prettier': 1103, 'thought': 1453, 'incredibly': 736, 'investment': 760, 'strange': 1395, 'ticking': 1457, 'noises': 966, 'ends': 488, 'electronics': 480, 'available': 107, 'fm': 582, 'transmitters': 1491, 'lasts': 810, 'h500': 652, 'mega': 900, 'pixel': 1063, 'reasonably': 1172, 'good7': 640, 'nearly': 950, 'transmit': 1490, 'bother': 164, 'contacting': 315, 'company': 288, 'dollar': 432, 'learned': 818, 'lesson': 823, 'form': 591, 'online': 989, 'earbugs': 460, 'means': 896, 'range': 1155, 'able': 33, 'roam': 1236, 'living': 844, 'room': 1240, 'issues': 768, 'felt': 556, 'crack': 343, 'worst': 1628, 'infatuated': 741, 'freezes': 597, 'frequently4': 598, 'embarrassing': 483, 'child': 251, 'lightweight': 831, 'expected': 521, 'consumer': 312, 'experience': 523, 'horrible': 699, 'tick': 1456, 'background': 116, 'certainly': 235, 'usually': 1544, 'headbands': 673, 'mess': 907, 'hair': 653, 'bit': 146, 'year': 1636, 'tell': 1440, 'ordered': 999, 'sony': 1353, 'ericsson': 499, 'favorite': 549, 'purchases': 1141, 'market': 892, 'authentic': 105, 'shine': 1295, 'comfort': 277, 'excited': 514, 'cute': 359, 'mistake': 924, 'disappointment': 412, 'calendar': 200, 'sync': 1431, 'customer': 357, 'additional': 57, 'gels': 621, 'whatsoever': 1594, 'defeats': 375, 'purpose': 1143, 'worth': 1629, 'penny': 1043, 'wallet': 1572, 'type': 1510, 'excrutiatingly': 516, 'probably': 1112, 'important': 722, 'aspect': 98, 'glove': 634, 'secure': 1269, 'durable': 452, 'gosh': 641, 'attractive': 103, 'appears': 88, 'factor': 536, 'rubber': 1243, 'petroleum': 1054, 'smell': 1338, 'unbearable': 1514, 'caused': 224, 'return': 1219, 'cable': 198, 'flimsy': 574, 'scary': 1259, 'earpiece': 466, 'hands': 656, 'stereo': 1389, 'month': 931, 'flawlessly': 572, 'absolutel': 35, 'junk': 781, 'drain': 440, 'potentially': 1096, 'fry': 604, 'unreliable': 1526, 'giving': 630, 'gave': 619, 'stars': 1376, 'reversible': 1223, 'rotating': 1241, 'feature': 550, 'family': 543, 'seller': 1275, 'plantronics': 1070, 'adorable': 60, 'buying': 194, 'poorly': 1089, 'contstruct': 322, 'hinge': 687, 'installed': 748, 'charged': 239, 'overnite': 1013, 'handset': 657, 'cat': 222, 'attacked': 102, 'scratched': 1262, 'protective': 1128, 'strip': 1400, 'destroying': 390, 'terrible': 1441, 'razor': 1160, 'v3i': 1551, 'wise': 1611, 'shouldve': 1304, 'invented': 759, 'sooner': 1355, 'try': 1503, 'engineered': 489, 'clever': 264, 'complained': 294, 'microphone': 915, 'weak': 1583, 'old': 987, 'nokia': 967, '2160': 11, 'tracfone': 1483, 'care': 212, 'instruction': 751, 'manual': 889, 'lacking': 803, 'alarm': 65, 'clock': 269, 'removing': 1201, 'antena': 81, 'uncomfortable': 1515, 'quite': 1151, 'compared': 290, 'plugged': 1082, 'lg': 826, 'gotten': 643, 'compliments': 298, 'state': 1381, 'allow': 67, 'usage': 1535, 'driving': 444, 'immediately': 721, 'ngage': 959, 'earbuds': 459, 'dialing': 396, 'low': 873, 'riingtones': 1228, 'games': 616, 'amazon': 74, 'sucks': 1413, 'rip': 1233, 'came': 203, 'ago': 64, 'couple': 337, 'ipod': 762, 'recharge': 1183, 'frequentyly': 599, 'flip': 575, 'adhesive': 59, 'disappointing': 411, 'inexpensive': 740, 'practically': 1099, 'add': 55, 'boost': 161, 'times': 1463, 'concrete': 301, 'knock': 798, 'wood': 1619, 'transformed': 1488, 'organizational': 1002, 'capability': 208, 'easier': 471, 'sitting': 1319, 'vehicle': 1554, 'cradle': 345, 'belt': 138, 'jerks': 775, 'los': 860, 'angeles': 77, 'starter': 1379, 'wireless': 1610, 'loudspeaker': 868, 'option': 996, 'bumpers': 188, 'lights': 830, 'appealing': 86, 'improve': 727, 'leaks': 817, 'hot': 700, 'according': 47, 'called': 201, 'applifies': 89, 'save': 1254, 'specially': 1367, 'face': 533, 'transmission': 1489, 's11': 1246, 'data': 365, 'finished': 564, 'looking': 854, 'happier': 663, 'drivng': 445, 'starts': 1380, 'ringing': 1231, 'reason': 1170, 'having': 672, 'auto': 106, 'reverse': 1222, 'tape': 1436, 'embarassing': 482, 'hurt': 709, 'push': 1144, 'protects': 1130, 'sides': 1307, 'average': 108, 'operates': 994, 'skype': 1325, 'soyo': 1363, 'self': 1274, 'portraits': 1092, 'outside': 1009, 'exterior': 527, 'mentioned': 904, 'trying': 1504, 'gadgets': 615, 'finally': 560, 'magical': 876, 'help': 680, 'crap': 347, 'shipped': 1298, 'promptly': 1123, 'exactly': 505, 'wanted': 1574, 'comparably': 289, 'offering': 982, 'today': 1470, 'deal': 371, 'satisfied': 1252, 'encourage': 485, 'effective': 477, 'waiting': 1567, 'recieve': 1184, 'prompt': 1122, 'especially': 500, 'stupid': 1405, 'cradles': 346, 'kits': 797, 'comes': 276, 'excelent': 507, 'cingulair': 257, 'nicer': 962, 'noticed': 973, 'era': 496, 'colored': 272, 'dead': 369, 'hoursthe': 703, 'thereplacement': 1448, '2000': 9, 'cheaply': 247, 'att': 101, 'distorted': 423, 'yell': 1638, 'plastic': 1072, 'breaks': 173, 'oh': 985, 'forgot': 590, 'mention': 903, 'weird': 1592, 'effect': 476, 'iriver': 766, 'spinn': 1370, 'unit': 1521, 'fond': 584, 'magnetic': 877, 'strap': 1396, 'psyched': 1135, 'appointments': 90, 'note': 970, 'appearance': 87, 'bland': 151, 'model': 927, 'sanyo': 1251, 'survived': 1427, 'dozens': 439, 'blacktop': 150, 'ill': 716, 'earphones': 465, 'finds': 561, 'away': 111, 'enter': 491, 'modest': 928, 'cellular': 231, 'clarity': 259, 'warning': 1575, 'wish': 1612, 'awsome': 115, 'drained': 441, 'dying': 454, 'earpad': 463, 'displeased': 419, 'defect': 376, 'risk': 1235, 'built': 186, 'difficult': 402, 'install': 747, 'restored': 1216, 'purchasing': 1142, 'jx': 783, 'moto': 935, 'figure': 558, 'searched': 1266, 'size': 1321, 'key': 788, 'pad': 1021, 'lit': 841, 'hard': 665, 'wasn': 1577, 'portable': 1091, 'colleague': 270, 'expensive': 522, 'fully': 607, 'bed': 132, 'turned': 1507, 'wi': 1599, 'fi': 557, '20': 8, 'morning': 933, 'reading': 1165, 'memory': 902, 'card': 211, 'wearing': 1585, 'hat': 667, 'sunglasses': 1416, 'timely': 1462, 'shipment': 1297, 'solid': 1349, 'surefire': 1425, 'gx2': 651, 'bt50': 181, 'computer': 300, 'buyers': 193, 'remorse': 1200, 'accessoryone': 44, 'inexcusable': 739, 'returning': 1221, 'changing': 236, 'carriers': 215, 'tmobile': 1467, 'update': 1530, 'procedure': 1115, 'cumbersome': 353, 'motorolas': 938, 'delivery': 382, 'vx9900': 1564, 'env': 494, 'switch': 1429, 'rocketed': 1237, 'destination': 389, 'unknown': 1523, 'conditions': 302, 'worthwhile': 1631, 'usefulness': 1540, 'bills': 145, 'understand': 1516, 'pricing': 1109, 'plans': 1069, 'overnight': 1012, 'batteries': 127, 'won': 1615, 'regret': 1195, 'user': 1542, 'friendly': 600, 'unfortunately': 1518, 'ability': 32, 'receiving': 1179, 'pitiful': 1062, 'respect': 1212, 'exchanged': 513, 'results': 1218, 'stuck': 1402, 'max': 895, 'mute': 946, 'hybrid': 710, 'palmtop': 1030, 'cellphone': 229, 'excels': 509, 'roles': 1239, 'bt250v': 180, 'liked': 833, 'wrong': 1634, 'described': 383, '11': 2, 'im': 717, 'bose': 163, 'noise': 965, 'cancelling': 207, 'amazing': 73, 'nyc': 977, 'commuter': 287, 'defective': 377, 'given': 629, 'star': 1375, 'unacceptable': 1512, 'holster': 694, 'photo': 1057, 'ad': 52, 'earlier': 462, 'review': 1224, 'noted': 971, 'happens': 662, 'frog': 602, 'eye': 531, 'catching': 223, 'pushed': 1145, 'function': 609, 'amazed': 72, 'aluminum': 71, 'palm': 1028, 'vx': 1563, 'protected': 1126, 'handheld': 655, 'tools': 1477, 'sturdiness': 1406, 'orders': 1001, 'timeframe': 1461, 'source': 1361, 'waterproof': 1581, 'complaint': 295, 'standard': 1374, 'thanks': 1445, 'things': 1450, 'ended': 487, 'sliding': 1330, 'edge': 475, 'pants': 1031, 'pockets': 1086, 'store': 1394, 'ugly': 1511, 'shield': 1293, 'incrediable': 734, 'improvement': 728, 'refuse': 1192, 'refund': 1190, 'replace': 1204, 'accidentally': 45, 'activate': 48, 'gentle': 623, 'touch': 1481, 'listening': 840, 'threw': 1454, 'window': 1603, 'took': 1475, 'drop': 447, 'inches': 729, 'kitchen': 796, 'counter': 335, 'cracked': 344, 'laughing': 815, 'trunk': 1501, 'carried': 214, 'conversation': 324, 'hitch': 689, 'practical': 1098, 'ample': 76, 'eargels': 461, 'channel': 237, 'directly': 405, 'increase': 733, 'ones': 988, 'properly': 1124, 'missed': 923, 'numerous': 976, 'sucked': 1412, 'shifting': 1294, 'bubbling': 182, 'peeling': 1042, 'scratch': 1261, 'droid': 446, 'zero': 1641, 'exercise': 517, 'frustration': 603, 'earset': 469, 'outgoing': 1006, 'total': 1479, 'package': 1019, 'understanding': 1517, 'patient': 1035, 'wirefly': 1609, 'contact': 313, 'cingular': 258, 'inform': 742, 'practice': 1100, 'aggravating': 63, 'friends': 601, 'enjoy': 490, 'virgin': 1558, 'muddy': 942, 'casing': 220, 'wire': 1607, 'insert': 745, 'glued': 635, 'slid': 1327, 'isn': 767, 'plantronincs': 1071, 'continues': 318, 'flawed': 570, 'disapointing': 408, 'fourth': 592, 'hated': 669, 'fixes': 567, 'accessing': 42, 'downloading': 437, 'ringtones': 1232, 'performing': 1050, 'functions': 612, 'barely': 121, 'constantly': 309, 'joke': 778, 'said': 1249, 'happening': 661, 'forced': 586, 'stop': 1390, 'adapters': 54, 'walked': 1569, 'procedures': 1116, 'wiping': 1606, 'strength': 1398, 'plays': 1076, 'louder': 866, 'speaker': 1365, 'constructed': 310, 'menus': 905, 'navigate': 948, 'recessed': 1182, 'holding': 692, 'avoiding': 110, 'broken': 176, 'smoking': 1340, 'sprint': 1372, 'linked': 836, 'effort': 479, 'possesed': 1093, 'idea': 713, 'trash': 1492, 'research': 1209, 'development': 393, 'division': 426, 'knows': 800, 'doing': 431, 'killer': 793, 'course': 339, 'breaking': 172, 'infuriating': 744, 'walkman': 1570, 'charges': 242, 'feel': 553, 'europe': 502, 'asia': 96, 'clipping': 267, 'deffinitely': 378, '50': 22, 'cent': 232, 'coming': 281, 'behing': 135, '5020': 23, 'comfortible': 280, '24': 12, 'day': 367, 'pain': 1023, 'quick': 1147, 'arrival': 94, 'fraction': 593, 'samsung': 1250, 'crappy': 348, 'e715': 456, 'seeen': 1272, 'stopped': 1391, 'needed': 953, 'operate': 993, 'interface': 756, 'decade': 372, 'compete': 291, 'designs': 387, 'paired': 1026, 'treo': 1495, '700w': 27, 'usb': 1536, 'transceiver': 1486, 'steer': 1388, 'genuine': 624, 'replacementr': 1207, 'pens': 1044, 'come': 275, 'pack': 1018, 'buyit': 195, 'beats': 130, 'fingers': 563, 'plus': 1084, 'believe': 136, 'steep': 1387, 'point': 1087, 'cases': 219, 'normally': 969, 'apart': 83, 'haul': 670, 'dissapointing': 422, 'brand': 169, 'extra': 529, 'originally': 1004, 'discarded': 413, 'players': 1075, 'posted': 1095, 'detailed': 392, 'comments': 282, 'grey': 647, 'red': 1189, 'pay': 1037, 'guess': 650, 'existing': 518, 'cds': 227, 'connection': 308, 'surprised': 1426, 'reviews': 1225, 'fabulous': 532, 'currently': 355, 'shooters': 1300, 'delay': 381, 'messes': 911, 'bitpim': 147, 'program': 1120, 'transfer': 1487, 'accessory': 43, 'manufacturer': 890, 'performed': 1049, 'awful': 113, 'muffled': 943, 'tinny': 1464, 'incoming': 731, 'severe': 1288, 'echo': 474, 'wind': 1602, 'resistant': 1210, 'overly': 1011, 'contacted': 314, 'told': 1472, 'warranty': 1576, 'produce': 1117, 'receipt': 1176, 'luck': 874, 'linksys': 838, 'exchange': 512, 'refurb': 1191, 'bar': 120, 'placed': 1065, 'snug': 1345, 'heavy': 679, 'keeps': 786, 'falling': 541, 'utter': 1545, 'promised': 1121, 'loop': 856, 'tiny': 1465, 'spring': 1371, 'latch': 811, 'visor': 1559, 'tries': 1498, 'download': 436, 'address': 58, 'reboots': 1173, 'rate': 1157, 'tungsten': 1505, 'e2': 455, 'flipphones': 576, 'designed': 386, 'smoothly': 1342, 'study': 1403, 'interested': 755, 'sins': 1317, 'industrial': 738, 'happened': 660, 'tracking': 1485, 'access': 40, 'detachable': 391, 'continue': 317, 'pairing': 1027, 'periodically': 1051, 'upload': 1532, 'locks': 849, 'screens': 1264, 'flash': 568, 'randomly': 1154, 'locked': 848, 'truly': 1500, '325': 14, 'worn': 1627, 'ringer': 1230, 'choices': 255, 'tones': 1474, 'acceptable': 39, 'balance': 119, 'ready': 1166, 'prime': 1110, 'upbeat': 1529, 'chinese': 253, 'forgeries': 588, 'abound': 34, 'explain': 525, 'jack': 773, 'ca': 197, '42': 18, 'crisp': 352, 'smallest': 1336, 'stays': 1386, 'biggest': 144, 'drains': 442, 'superfast': 1419, 'ergonomic': 497, 'theory': 1447, 'stand': 1373, 'video': 1556, 'clips': 268, 'occupied': 979, 'distracting': 424, 'hour': 701, 'entire': 493, 'accept': 38, 'cbr': 226, 'mp3s': 941, 'preferably': 1101, 'ripped': 1234, 'windows': 1604, 'media': 898, 'beat': 129, 'shots': 1302, 'sos': 1357, 'signals': 1310, 'allows': 69, 'connect': 305, 'mini': 918, 'near': 949, 'open': 991, 'allowing': 68, 'startac': 1377, 'regretted': 1196, 'outperform': 1008, 'china': 252, 'v325i': 1549, 'numbers': 975, 'sim': 1313, '3o': 17, 'crashed': 349, 'replaced': 1205, 'quit': 1150, '18': 7, 'iphone': 761, '4s': 21, 'despite': 388, 'connecting': 307, 'multiple': 944, 'power': 1097, 'sources': 1362, 'imac': 718, 'external': 528, 'wall': 1571, 'outlet': 1007, 'bells': 137, 'whistles': 1596, 'mediocre': 899, 'slide': 1328, 'grip': 648, 'prevents': 1105, 'slipping': 1332, 'hand': 654, 'span': 1364, 'exclaim': 515, 'whoa': 1598, 'tv': 1509, 'corded': 330, 'freedom': 595, 'passed': 1034, 'mark': 891, 'shows': 1306, 'signs': 1312, '100': 1, 'functional': 610, 'soft': 1346, 'tight': 1459, 'cut': 358, 'shape': 1290, 'copier': 328, 'sizes': 1322, 'sent': 1280, 'sold': 1348, 'units': 1522, 'provides': 1133, 'classy': 260, 'krussel': 801, 'tracfonewebsite': 1484, 'toactivate': 1468, 'texas': 1442, 'dit': 425, '5320': 25, 'mainly': 879, 'soon': 1354, 'blueant': 154, 'supertooth': 1420, 'metro': 913, 'pcs': 1039, 'sch': 1260, 'r450': 1153, 'slider': 1329, 'premium': 1102, 'plugs': 1083, 'plenty': 1080, 'capacity': 209, 'confortable': 303, 'somewhat': 1350, 'periods': 1052, 'ant': 80, 'hey': 682, 'pleasantly': 1077, 'suprised': 1423, 'cost': 332, 'dustpan': 453, 'indoors': 737, 'disposable': 420, 'puff': 1136, 'smoke': 1339, 'convenient': 323, 'ride': 1226, 'smoother': 1341, 'nano': 947, 'son': 1351, 'dissapointed': 421, 'reccommend': 1175, 'carries': 216, 'highest': 684, 'anti': 82, 'glare': 632, 'protector': 1129, 'date': 366, 'smartphone': 1337, 'wont': 1618, 'atleast': 100, 'addition': 56, 'amp': 75, 'reoccure': 1203, '12': 3, 'creaks': 351, 'wooden': 1620, 'floor': 578, 'apartment': 84, 'generally': 622, 'inconspicuous': 732, 'boot': 162, 'slowly': 1334, 'sorry': 1356, 'impossible': 723, 'refused': 1193, 'upgrade': 1531, 'discount': 416, 'securly': 1271, 'possibility': 1094, 'double': 435, 'booking': 160, 'break': 170, 'entertainment': 492, 'communication': 285, 'management': 888, 'activesync': 50, 'optimal': 995, 'synchronization': 1432, 'disgusting': 417, 'coupon': 338, 'rare': 1156, 'instance': 749, 'perfect': 1046, 'ps3': 1134, 'cheapy': 248, 'lots': 864, 'sounded': 1359, 'talking': 1435, 'shouting': 1305, 'telephone': 1439, 'yes': 1639, 'shiny': 1296, 'grtting': 649, '44': 19, 'v3c': 1550, 'thumbs': 1455, 'exceeds': 506, 'feet': 555, 'sight': 1308, 'improper': 726, 'checked': 250, 'ordering': 1000, 'effects': 478, 'palms': 1029, 'awkward': 114, 'hoped': 697, 'father': 548, 'v265': 1548, 'pads': 1022, 'easily': 472, 'stops': 1392, 'intermittently': 757, 'reaching': 1163, 'row': 1242, 'send': 1276, 'keys': 792, 'nightmare': 964, 'speakerphone': 1366, 'cassette': 221, 'current': 354, 'cellphones': 230, 'planning': 1068, 'says': 1258, 'dirty': 406, 'answer': 79, 'read': 1164, 'haven': 671, 'products': 1119, 'sensor': 1279, 'reliability': 1199, 'beeping': 134, 'letting': 825, 'dieing': 400, 'laptop': 806, 'ir': 764, 'cancellation': 206, 'counterfeit': 336, 'travled': 1493, 'swivel': 1430, 'sister': 1318, 'dual': 451, '8125': 28, 'keeping': 785, 'inside': 746, 'bottowm': 165, 'gimmick': 627, 'opens': 992, 'causing': 225, 'discomfort': 414, 'trust': 1502, 'maintains': 881, 'flawless': 571, 'normal': 968, 'making': 886, 'fails': 538, 'devices': 395, 'utterly': 1546, 'confusing': 304, 'lose': 861, 'holder': 691, 'cutouts': 360, 'land': 804, 'loops': 857, 'material': 894, 'flaws': 573, 'exceptional': 510, 'owning': 1017, 'official': 984, 'oem': 981, 'loudest': 867, 'setting': 1286, 'competitors': 292, 'saved': 1255, 'alot': 70, 'cuts': 361, 'beep': 133, 'ok': 986, 'totally': 1480, 'unintelligible': 1520, 'word': 1621, 'restart': 1214, 'managed': 887, 'bend': 139, 'leaf': 816, 'metal': 912, 'stress': 1399, 'leopard': 822, 'print': 1111, 'wonderfully': 1617, 'wild': 1601, 'saggy': 1248, 'floppy': 579, 'looses': 859, 'snap': 1344, '8525': 29, 'carry': 217, 'fliptop': 577, 'loose': 858, 'wobbly': 1614, 'eventually': 503, 'receive': 1177, 'seat': 1267, 'fulfills': 606, 'requirements': 1208, 'fact': 535, 'rests': 1217, 'lightly': 829, 'websites': 1588, 'rating': 1159, 'cables': 199, 'lap': 805, 'controls': 321, 'accessable': 41, 'christmas': 256, 'rest': 1213, 'joy': 779, 'satisifed': 1253, '2005': 10, 's710a': 1247, 'wow': 1633, 'specs': 1368, 'armband': 93, 'allot': 66, 'clearer': 262, 'keypads': 791, 'reach': 1162, 'ericson': 498, 'z500a': 1640, 'motor': 936, 'control': 320, 'center': 233, 'voltage': 1561, 'humming': 708, 'equipment': 495, 'certain': 234, 'places': 1066, 'girl': 628, 'complain': 293, 'wake': 1568, 'styling': 1409, 'restocking': 1215, 'fee': 552, 'darn': 364, 'lousy': 869, 'seen': 1273, 'sweetest': 1428, 'securely': 1270, 'hook': 696, 'directed': 403, 'canal': 205, 'unsatisfactory': 1527, 'videos': 1557, 'negatively': 956, 'adapter': 53, 'provide': 1131, 'hype': 711, 'assumed': 99, 'lense': 821, 'covered': 342, 'falls': 542, 'text': 1443, 'messaging': 910, 'tricky': 1496, 'painful': 1024, 'lasted': 808, 'blew': 152, 'flops': 580, 'smudged': 1343, 'touches': 1482, 'disappoint': 409, 'infra': 743, 'port': 1090, 'irda': 765}\n"
     ]
    }
   ],
   "source": [
    "print(\"Vocabulary length: {}\".format(len(tf.vocabulary_)))\n",
    "print(\"Vocabulary text: {}\".format(tf.vocabulary_))"
   ]
  },
  {
   "cell_type": "code",
   "execution_count": 6,
   "metadata": {},
   "outputs": [
    {
     "name": "stdout",
     "output_type": "stream",
     "text": [
      "4\n"
     ]
    },
    {
     "data": {
      "text/plain": [
       "(1000, 1642)"
      ]
     },
     "execution_count": 6,
     "metadata": {},
     "output_type": "execute_result"
    }
   ],
   "source": [
    "#check if you are getting the correct output\n",
    "print(sum(trainX.toarray()[1]))\n",
    "trainX.shape"
   ]
  },
  {
   "cell_type": "markdown",
   "metadata": {},
   "source": [
    "You should get:\n",
    "<br>\n",
    "\n",
    "3 <br>\n",
    "(1000, 1825)"
   ]
  },
  {
   "cell_type": "markdown",
   "metadata": {},
   "source": [
    "Now that you have the bag of words model, let's define the number of visible and hidden units."
   ]
  },
  {
   "cell_type": "code",
   "execution_count": 7,
   "metadata": {},
   "outputs": [],
   "source": [
    "#graded\n",
    "# define visible units\n",
    "visibleUnits = trainX.shape[1]# vocabulary size ~1 line\n",
    "\n",
    "# assign number of units\n",
    "hiddenUnits = 5 # hyperparameter, this means that we are looking for 5 topics"
   ]
  },
  {
   "cell_type": "code",
   "execution_count": 8,
   "metadata": {},
   "outputs": [
    {
     "data": {
      "text/plain": [
       "1642"
      ]
     },
     "execution_count": 8,
     "metadata": {},
     "output_type": "execute_result"
    }
   ],
   "source": [
    "visibleUnits"
   ]
  },
  {
   "cell_type": "code",
   "execution_count": 9,
   "metadata": {},
   "outputs": [],
   "source": [
    "#graded\n",
    "# utility Functions\n",
    "\n",
    "# deine the sigmoid function\n",
    "def sigmoid(X):\n",
    "    return 1/(1+np.exp(-X))# ~ 1 line"
   ]
  },
  {
   "cell_type": "markdown",
   "metadata": {},
   "source": [
    "## RBM as a Probabilistic Model\n",
    "Restricted Boltzmann Machines are probabilistic. As opposed to assigning discrete values the model assigns probabilities. At each point in time the RBM is in a certain state. The state refers to the values of neurons in the visible and hidden layers v and h. The probability that a certain state of v and h can be observed is given by the following joint distribution:\n",
    "<img src=\"figure4.png\" width=\"200\" height=\"70\" title=\"Layers in RBM\">\n",
    "\n",
    "Eq. 2. Joint Distribution for v and h.\n",
    "Here Z is called the ‘partition function’ that is the summation over all possible pairs of visible and hidden vectors."
   ]
  },
  {
   "cell_type": "markdown",
   "metadata": {},
   "source": [
    "The joint distribution is known as the Boltzmann Distribution which gives the probability that a particle can be observed in the state with the energy E. Unfortunately it is very difficult to calculate the joint probability due to the huge number of possible combination of v and h in the partition function Z. Much easier is the calculation of the conditional probabilities of state h given the state v and conditional probabilities of state v given the state h:\n",
    "<img src=\"figure5.png\" width=\"200\" height=\"70\" title=\"Layers in RBM\">\n",
    "\n",
    "Eq. 3. Conditional probabilities for h and v.\n",
    "It should be noticed beforehand (before demonstrating this fact on practical example) that each neuron in a RBM can only exist in a binary state of 0 or 1. The most interesting factor is the probability that a hidden or visible layer neuron is in the state 1 — hence activated. "
   ]
  },
  {
   "cell_type": "markdown",
   "metadata": {},
   "source": [
    "# Contrastive Divergence\n",
    "\n",
    "### Gibbs Sampling\n",
    "The first part of the training is called Gibbs Sampling. Given an input vector v we are using p(h|v) for prediction of the hidden values h via sampling. Knowing the hidden values we use p(v|h) for prediction of new input values v via sampling. This process is repeated k times. After k iterations, we obtain the visible vector $v_k$ which was recreated from original input values $v_0$.\n",
    "<img src=\"figure8.png\" width=\"500\" height=\"300\" title=\"Layers in RBM\">"
   ]
  },
  {
   "cell_type": "markdown",
   "metadata": {},
   "source": [
    "The gibbs function *gibbs* is divided into subparts: <br>\n",
    "1.*sampleHiddenLayer * <br>\n",
    "2.*sampleVisibleLayer*\n",
    "\n",
    "Let's look at *sampleHiddenLayer* now.\n",
    "\n",
    "### Sample Hidden Layer"
   ]
  },
  {
   "cell_type": "markdown",
   "metadata": {},
   "source": [
    "You already know that given an input vector v the probability for a single hidden neuron j being activated is:\n",
    "<img src=\"figure6.png\" width=\"400\" height=\"200\" title=\"Layers in RBM\">\n",
    "\n",
    "Eq. 4\n",
    "Here is σ the Sigmoid function.\n",
    "\n",
    "*sampleHiddenLayer* takes the visible layer as input to calculate the hidden layer using Eq. 4 *h1Pdf* and then samples it to get * h1_sample*\n",
    "\n",
    "    v_sample: given visible layer matrix; matrix because a batch of data points will be trained at one go\n",
    "    returns a sample vector of hidden layer and its distribution for a batch of data points\n",
    "    \n",
    "    hPdf: distribution of hidden layer; a matrix for batch of datapoints = p(h|v)\n",
    "    h_sample: sampled hidden layer matrix"
   ]
  },
  {
   "cell_type": "code",
   "execution_count": 10,
   "metadata": {},
   "outputs": [],
   "source": [
    "#graded\n",
    "def sampleHiddenLayer(v_sample):\n",
    "    \n",
    "    # write the code for calculation of hPdf using vectorized implementation of Eq 4\n",
    "    hPdf = sigmoid(hiddenBias + np.matmul(v_sample,W))# ~ 1 line\n",
    "    \n",
    "    # Here, np.random.binomial is used to create the hidden layer sample matrix\n",
    "    h_sample = np_rng.binomial(size=hPdf.shape, n=1, p=hPdf)\n",
    "    return [hPdf, h_sample]"
   ]
  },
  {
   "cell_type": "markdown",
   "metadata": {},
   "source": [
    "### Sample Visible Layer\n",
    "Similarly, the probability that a binary state of a visible neuron i is set to 1 is:\n",
    "<img src=\"figure7.png\" width=\"400\" height=\"200\" title=\"Layers in RBM\">\n",
    "Eq. 5\n",
    "\n",
    "As seen in equation 5, we will be writing a function to sample the Visible Layer.\n",
    "This function samples the visible layer based on the sampled data of hidden layer. <br>\n",
    "\n",
    "There are some differences in writing the function *sampleVisibleLayer*. <br>Firstly, we use np.random.multinomial to sample the visible layer *v_sample* from the distribution *vPdf*. <br>Secondly,elements of *vPdf* needs to sum to 1 as the function np.random.multinomial used to sample the visible layer takes on probability distributions as *pvals*. In other words, you are finding the softmax values. <br> Thirdly, we also make use of the *D* to sample the visible layer as each document has different word count.\n",
    "    \n",
    "    h_sample: given hidden layer matrix; matrix because a batch of data points will be trained at one go\n",
    "    D: array of the sum of the row of the data vector; vector containing number of words in each document\n",
    "    \n",
    "    returns a sample vector of hidden layer and its distribution for a batch of data points\n",
    "    \n",
    "    vPdf: distribution of visible layer; a matrix for batch of datapoints = p(v|h)\n",
    "    v_sample: sampled visible layer matrix\n",
    "    "
   ]
  },
  {
   "cell_type": "code",
   "execution_count": 11,
   "metadata": {},
   "outputs": [],
   "source": [
    "#graded\n",
    "def sampleVisibleLayer(h_sample, D):\n",
    "    \n",
    "    # complete the following function such that vPdf has the sum of entries equal to 1 for each of the datapoints in the batch\n",
    "    # you have to use axis = 1 in writing the denominator\n",
    "    numerator = sigmoid(visibleBias + np.matmul(h_sample, W.T))# ~1 line\n",
    "    denominator = np.sum(numerator,axis = 1, keepdims = True)# ~1 line\n",
    "    vPdf = numerator/denominator# ~1 line\n",
    "    \n",
    "    # Here np.random.multinomial is used to sample as each document has different number of words \n",
    "    # and hence D is also a parameter in sampling\n",
    "    v_sample = np.zeros((batchSize, vPdf.shape[1]))\n",
    "    for i in range(batchSize):\n",
    "        v_sample[i] = np_rng.multinomial(size=1, n=D[i], pvals=vPdf[i])\n",
    "    return [vPdf, v_sample]"
   ]
  },
  {
   "cell_type": "markdown",
   "metadata": {},
   "source": [
    "### Sampling"
   ]
  },
  {
   "cell_type": "markdown",
   "metadata": {},
   "source": [
    "We use the above functions to write the function *gibbs* to run one iteration of gibbs sampling. Note that we are calculating the visible layer samples first and then using it to calculate he hidden layer sample. It'll become clear soon why we are doing so when you write the function for Contrastive Divergence.\n",
    "    \n",
    "    Input:\n",
    "    h_sample: given hidden layer matrix; matrix because a batch of data points will be trained at one go\n",
    "    D: array of the sum of the row of the data vector; vector containing number of words in each document\n",
    "    \n",
    "    Output:\n",
    "    vPdf: distribution of visible layer\n",
    "    v_sample: sampled visible layer matrix\n",
    "    hPdf: distribution of hidden layer\n",
    "    h_sample: sampled hidden layer matrix"
   ]
  },
  {
   "cell_type": "code",
   "execution_count": 12,
   "metadata": {},
   "outputs": [],
   "source": [
    "#graded\n",
    "def gibbs(h_sample, D):\n",
    "    \n",
    "    #use sampleVIsibleLayer and sampleHiddenLayer \n",
    "    vPdf, v_sample = sampleVisibleLayer(h_sample, D)# ~1 line\n",
    "    hPdf, h_sample = sampleHiddenLayer(v_sample)# ~1 line\n",
    "    return [vPdf, v_sample, hPdf, h_sample ]"
   ]
  },
  {
   "cell_type": "markdown",
   "metadata": {},
   "source": [
    "\n",
    "### Contrastive Divergence\n",
    "\n",
    "You have learned that Contrastive Divergence updates weights after one iteration of Gibbs Sampling. Here, we shall perform *k* such iterations in Contrastive Divergence. \n",
    "The update of the weight matrix happens post the Contrastive Divergence step. "
   ]
  },
  {
   "cell_type": "markdown",
   "metadata": {},
   "source": [
    "\n",
    "Now, we will writing a funtion to run the contrastive divergence algorithm in k steps\n",
    "    \n",
    "    Input:\n",
    "    data: batch data (visible layer)\n",
    "    k: no of iterations for gibbs sampling\n",
    "    \n",
    "    Output:\n",
    "    hiddenPDF_data: distribution of the hidden layer based on data\n",
    "    visibleSamples: visible samples generated by gibbs sampling \n",
    "    hiddenPDF: distribution of the hidden layer based on samples generated by gibbs"
   ]
  },
  {
   "cell_type": "code",
   "execution_count": 13,
   "metadata": {},
   "outputs": [],
   "source": [
    "#graded\n",
    "def cd_k(data,k):\n",
    "    \n",
    "    D = data.sum(axis=1)\n",
    "    hiddenPDF_data, hiddenSample_data = sampleHiddenLayer(data)# sample the hidden layer using the input data\n",
    "    chain_start = hiddenSample_data\n",
    "\n",
    "    for step in range(k):\n",
    "        if step == 0:\n",
    "            visiblePDF, visibleSamples, hiddenPDF, hiddenSamples  = gibbs(chain_start, D)# perform gibbs sampling using chain_start\n",
    "        else:\n",
    "            visiblePDF, visibleSamples, hiddenPDF, hiddenSamples = gibbs(hiddenSamples, D)# perform gibbs sampling using hiddenSamples\n",
    "    return hiddenPDF_data, visibleSamples, hiddenPDF\n"
   ]
  },
  {
   "cell_type": "markdown",
   "metadata": {},
   "source": [
    "## Training the Model\n",
    "\n",
    "Vectors $v_0$ and $v_k$ are used to calculate the activation probabilities for hidden layers $p(h_0|v_0)$ and $p(h_k|v_k)$ (Eq.4). The difference between the outer products of those probabilities with input vectors $v_0$ and $v_k$ results in the update matrix:\n",
    "<img src=\"figure9.png\" width=\"300\" height=\"200\" title=\"Layers in RBM\">\n",
    "Eq. 6. Update matrix. **Figure out** the vectorized implementation for this.\n",
    "\n",
    "In order to calculate $\\Delta (bias)$, <br>\n",
    "<center>$\\Delta (visiblebias) = average\\_ across\\_ batch(v_0 - v_k)$ </center> \n",
    "<center>$\\Delta (hiddenbias) = average\\_across\\_ batch(p(h_0|v_0) - p(h_k|v_k))$ </center> \n",
    "\n",
    "Using the update matrix the new weights can be calculated with momentum gradient ascent, given by:\n",
    "<center>  $mW_t = \\gamma \\ mW_{t-1} - \\Delta W$</center> \n",
    "<center>  $mvisiblebias_t = \\gamma \\ mvisiblebias_{t-1} - \\Delta visiblebias$</center>\n",
    "<center>  $mhiddenbias_t = \\gamma \\ mhiddenbias_{t-1} - \\Delta hiddenbias$</center><br>\n",
    "<center>  $W_t = W_{t-1} + \\alpha \\ mW_t$</center> \n",
    "<center>  $visiblebias_t = visiblebias_{t-1} + \\alpha \\ mvisiblebias_t$</center> \n",
    "<center>  $hiddenbias_t = hiddenbias_{t-1} + \\alpha \\ mhiddenbias_t$</center> \n",
    "\n",
    "\n",
    "Eq. 7. Update rule for the weights.\n",
    "\n",
    "Note that in the code implementation below <br>\n",
    " hiddenPDF_data is $p(h_0|v_0)$ <br>\n",
    " visibleSamples is $v_k$ <br>\n",
    " hiddenPDF is $p(h_k|v_k)$ <br>\n",
    " mdata is $v_0$ <br>\n",
    " eta is $\\alpha$ <br>\n",
    " mrate is $\\gamma$ <br>\n",
    "These will be helpful in writing the weight updates.\n",
    "\n",
    "In this we will write a function which iterates over our data for *epochs*.\n",
    "At every epoch we shuffle the data and then run CD on a mini batch size defined by *batchSize*"
   ]
  },
  {
   "cell_type": "markdown",
   "metadata": {},
   "source": [
    "### Initializations"
   ]
  },
  {
   "cell_type": "code",
   "execution_count": 14,
   "metadata": {},
   "outputs": [],
   "source": [
    "\"\"\"\n",
    "visibleUnits: no of words in your Bag of words Model\n",
    "hiddenUnits: no of topics\n",
    "batchSize: data slice to be selected \n",
    "epochs: no of iterations\n",
    "eta: learning rate\n",
    "mrate: momentum coefficient\n",
    "W : weights between the visible and hidden layer\n",
    "visibleBias, hiddenBias: biases for visible and hidden layer respectively\n",
    "\"\"\"\n",
    "\n",
    "# define batch size\n",
    "batchSize = 200\n",
    "\n",
    "epochs = 100\n",
    "eta = 0.05 \n",
    "mrate = 0.5\n",
    "\n",
    "# initialise weights\n",
    "weightinit=0.01\n",
    "W = weightinit * np_rng.randn(visibleUnits, hiddenUnits)\n",
    "visibleBias = weightinit * np_rng.randn(visibleUnits)\n",
    "hiddenBias = np.zeros((hiddenUnits))\n",
    "\n",
    "# we shall use 10 interations of gibbs sampling\n",
    "k=10"
   ]
  },
  {
   "cell_type": "markdown",
   "metadata": {},
   "source": [
    "### Training"
   ]
  },
  {
   "cell_type": "code",
   "execution_count": 15,
   "metadata": {},
   "outputs": [],
   "source": [
    "#graded\n",
    "def train(dataX,k):\n",
    "    \n",
    "    mW = np_rng.randn(visibleUnits, hiddenUnits) * weightinit# initialise momentum_weights\n",
    "    mvisibleBias =  np_rng.randn(visibleUnits)* weightinit# initialise momentum_visiblebiases\n",
    "    mhiddenBias =  np.zeros(hiddenUnits)# initialise momentum_hiddenbiases\n",
    "    global W,visibleBias,hiddenBias,mrate,batchSize,epochs # calling the variables initiliazed at the begining\n",
    "    for epoch in range(epochs):\n",
    "        np_rng.shuffle(dataX) #shuffling the data\n",
    "        \n",
    "        for i in range(0, dataX.shape[0], batchSize):\n",
    "            mData = dataX[i:i+batchSize]#select a batch of datapoints\n",
    "            hiddenPDF_data, visibleSamples, hiddenPDF =  cd_k(mData,k)# perfrom Contrastive Divergence on the batch for k iterations\n",
    "\n",
    "            mW = (mrate * mW) - (np.matmul(mData.T, hiddenPDF_data) - np.matmul(visibleSamples.T,hiddenPDF))#write the momentum update equation for weight matrix\n",
    "            mvisibleBias = (mrate * mvisibleBias) - np.mean(mData - visibleSamples, axis = 0)#write the momentum update equation for visiblebias vector\n",
    "            mhiddenBias =  (mrate * mhiddenBias) - np.mean(hiddenPDF_data - hiddenPDF, axis = 0)#write the momentum update equation for hiddenbias vector\n",
    "\n",
    "            W =  W + (eta * mW)#weight update equation\n",
    "            visibleBias =  visibleBias + (eta * mvisibleBias)#visible bias update equation\n",
    "            hiddenBias =  mhiddenBias + (eta * mhiddenBias)#hidden bias update equation"
   ]
  },
  {
   "cell_type": "markdown",
   "metadata": {},
   "source": [
    "## Train the Model\n",
    "\n",
    "This will take around 10 minutes of time to run."
   ]
  },
  {
   "cell_type": "code",
   "execution_count": 16,
   "metadata": {},
   "outputs": [],
   "source": [
    "start = timeit.default_timer()"
   ]
  },
  {
   "cell_type": "code",
   "execution_count": 17,
   "metadata": {},
   "outputs": [],
   "source": [
    "train(trainX.toarray(),k)"
   ]
  },
  {
   "cell_type": "code",
   "execution_count": 18,
   "metadata": {},
   "outputs": [
    {
     "name": "stdout",
     "output_type": "stream",
     "text": [
      "Total running time: 0:3:16.\n",
      "\n"
     ]
    }
   ],
   "source": [
    "stop = timeit.default_timer()\n",
    "total_time = stop - start\n",
    "\n",
    "mins, secs = divmod(total_time, 60)\n",
    "hours, mins = divmod(mins, 60)\n",
    "\n",
    "print(\"Total running time: %d:%d:%d.\\n\" % (hours, mins, secs))"
   ]
  },
  {
   "cell_type": "markdown",
   "metadata": {},
   "source": [
    "# Word Distribution based on Topics\n",
    "In this function, we are finding the distribution of words over the topics. You can take a look at the words under each topic and see what they are talking about. The number of topics is the number of neurons in the hidden layer. <br>\n",
    "<br>\n",
    "\n",
    "For each topic, the function prints the top 15 words that describe the topic. You can see that some of the words occur in multiple topics.\n",
    "\n",
    "    topic: number of hidden layers\n",
    "    voc: indexing of the vocabulary\n",
    "    \n",
    "Feel free to change the number of iterations of gibbs sampling in Contrastive Divergence and see how the distribution of words change under the topics."
   ]
  },
  {
   "cell_type": "code",
   "execution_count": 19,
   "metadata": {},
   "outputs": [],
   "source": [
    "def worddist( topic, voc):\n",
    "    \n",
    "    \"\"\"\n",
    "    Initialize every topic =1 once \n",
    "    \"\"\"\n",
    "    vecTopics = np.zeros((topic, topic))\n",
    "    for i in range(len(vecTopics)):\n",
    "        vecTopics[i][i] = 1\n",
    "    \n",
    "    \n",
    "    for i, vecTopic in enumerate(vecTopics):\n",
    "       \n",
    "        numerator = np.exp(np.dot(vecTopic, W.T) + visibleBias)\n",
    "        denominator = numerator.sum().reshape((1, 1))\n",
    "        word_distribution = (numerator/denominator).flatten()\n",
    "        \n",
    "        tmpDict = {}\n",
    "        for j in voc.keys():\n",
    "            tmpDict[j] = word_distribution[voc[j]]\n",
    "        print('topic', str(i), ':', vecTopic)\n",
    "        lm=0\n",
    "        for word, prob in sorted(tmpDict.items(), key=lambda x:x[1], reverse=True):\n",
    "            print ( word, str(prob))\n",
    "            lm+=1\n",
    "            if lm==15:\n",
    "                break\n",
    "        print('\\n')"
   ]
  },
  {
   "cell_type": "code",
   "execution_count": 20,
   "metadata": {},
   "outputs": [
    {
     "name": "stdout",
     "output_type": "stream",
     "text": [
      "topic 0 : [1. 0. 0. 0. 0.]\n",
      "elegant 0.2753764460985007\n",
      "pics 0.04031426177045493\n",
      "5020 0.035133754176154365\n",
      "max 0.03466385013277913\n",
      "apartment 0.03366037413963036\n",
      "pleather 0.026027644718639317\n",
      "voltage 0.023321441948970557\n",
      "breakage 0.019537370881434823\n",
      "wouldn 0.0182913710676587\n",
      "18 0.01729725609306982\n",
      "places 0.01477162894524935\n",
      "r450 0.013882375799181428\n",
      "awsome 0.013793177488077183\n",
      "bt50 0.013313034676957596\n",
      "exchange 0.012798558671560269\n",
      "\n",
      "\n",
      "topic 1 : [0. 1. 0. 0. 0.]\n",
      "elegant 0.27327278911905983\n",
      "pics 0.04027063272363698\n",
      "5020 0.035477862047041286\n",
      "max 0.03475954718800086\n",
      "apartment 0.03375618911134129\n",
      "pleather 0.025613813812712084\n",
      "voltage 0.02340328458075105\n",
      "breakage 0.020035255476044206\n",
      "wouldn 0.01932112569546706\n",
      "18 0.017370868273753972\n",
      "places 0.015045824701580765\n",
      "r450 0.013834031326214588\n",
      "awsome 0.01359130996791959\n",
      "bt50 0.01331907828782776\n",
      "exchange 0.012820861801215453\n",
      "\n",
      "\n",
      "topic 2 : [0. 0. 1. 0. 0.]\n",
      "elegant 0.2771691987127385\n",
      "pics 0.040276668626751916\n",
      "5020 0.03427611102020244\n",
      "apartment 0.03376910386782087\n",
      "max 0.033303415863905846\n",
      "pleather 0.0263469718620022\n",
      "voltage 0.023150459395160226\n",
      "breakage 0.01990376372873529\n",
      "wouldn 0.018744338791917226\n",
      "18 0.017200500512854322\n",
      "places 0.015053566141471797\n",
      "r450 0.014118964977497475\n",
      "awsome 0.013785079893612861\n",
      "bt50 0.013466465847761996\n",
      "exchange 0.012835955594374256\n",
      "\n",
      "\n",
      "topic 3 : [0. 0. 0. 1. 0.]\n",
      "elegant 0.277535235934902\n",
      "pics 0.040744748258177206\n",
      "5020 0.03500503787289809\n",
      "max 0.03409371893051188\n",
      "apartment 0.03364518125038685\n",
      "pleather 0.025837913313650835\n",
      "voltage 0.023078451169511724\n",
      "breakage 0.01974661859987818\n",
      "wouldn 0.019040495683687937\n",
      "18 0.017400806586137362\n",
      "places 0.014877865090939434\n",
      "r450 0.01387374858885791\n",
      "awsome 0.013800154861377086\n",
      "bt50 0.013148681921568395\n",
      "exchange 0.012611912956574626\n",
      "\n",
      "\n",
      "topic 4 : [0. 0. 0. 0. 1.]\n",
      "elegant 0.2745466352210074\n",
      "pics 0.040863923113509\n",
      "5020 0.035270591996704126\n",
      "max 0.03398207286760284\n",
      "apartment 0.03357835491845021\n",
      "pleather 0.026427666229020586\n",
      "voltage 0.0232751056491774\n",
      "breakage 0.019565001699525464\n",
      "wouldn 0.01872292993730862\n",
      "18 0.017742530701408504\n",
      "places 0.014804910980430144\n",
      "r450 0.01414623524671569\n",
      "awsome 0.013882431576055993\n",
      "bt50 0.013252402864997993\n",
      "exchange 0.012663553255549673\n",
      "\n",
      "\n"
     ]
    }
   ],
   "source": [
    "worddist( hiddenUnits, tf.vocabulary_)"
   ]
  },
  {
   "cell_type": "markdown",
   "metadata": {},
   "source": [
    "The output shows the probability assigned to each word for ever topic present."
   ]
  }
 ],
 "metadata": {
  "anaconda-cloud": {},
  "kernelspec": {
   "display_name": "Python 3",
   "language": "python",
   "name": "python3"
  },
  "language_info": {
   "codemirror_mode": {
    "name": "ipython",
    "version": 3
   },
   "file_extension": ".py",
   "mimetype": "text/x-python",
   "name": "python",
   "nbconvert_exporter": "python",
   "pygments_lexer": "ipython3",
   "version": "3.7.3"
  }
 },
 "nbformat": 4,
 "nbformat_minor": 1
}
